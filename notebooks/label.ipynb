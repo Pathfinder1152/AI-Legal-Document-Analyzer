{
 "cells": [
  {
   "cell_type": "code",
   "execution_count": 1,
   "id": "9f20e801",
   "metadata": {},
   "outputs": [
    {
     "data": {
      "application/vnd.jupyter.widget-view+json": {
       "model_id": "8027436ac32d4f3fbe59a0ae54fbabda",
       "version_major": 2,
       "version_minor": 0
      },
      "text/plain": [
       "README.md:   0%|          | 0.00/34.1k [00:00<?, ?B/s]"
      ]
     },
     "metadata": {},
     "output_type": "display_data"
    },
    {
     "data": {
      "application/vnd.jupyter.widget-view+json": {
       "model_id": "44a849b619464b07a368ab5696b6def3",
       "version_major": 2,
       "version_minor": 0
      },
      "text/plain": [
       "train-00000-of-00001.parquet:   0%|          | 0.00/20.9M [00:00<?, ?B/s]"
      ]
     },
     "metadata": {},
     "output_type": "display_data"
    },
    {
     "data": {
      "application/vnd.jupyter.widget-view+json": {
       "model_id": "0890d76006de49d1a1ff8e1f9e2a6c53",
       "version_major": 2,
       "version_minor": 0
      },
      "text/plain": [
       "test-00000-of-00001.parquet:   0%|          | 0.00/3.31M [00:00<?, ?B/s]"
      ]
     },
     "metadata": {},
     "output_type": "display_data"
    },
    {
     "data": {
      "application/vnd.jupyter.widget-view+json": {
       "model_id": "4129d0a8907b4039bab8a4c8bbf58ce3",
       "version_major": 2,
       "version_minor": 0
      },
      "text/plain": [
       "validation-00000-of-00001.parquet:   0%|          | 0.00/3.44M [00:00<?, ?B/s]"
      ]
     },
     "metadata": {},
     "output_type": "display_data"
    },
    {
     "data": {
      "application/vnd.jupyter.widget-view+json": {
       "model_id": "92ef67dc826b474e978a22c41a31794c",
       "version_major": 2,
       "version_minor": 0
      },
      "text/plain": [
       "Generating train split:   0%|          | 0/60000 [00:00<?, ? examples/s]"
      ]
     },
     "metadata": {},
     "output_type": "display_data"
    },
    {
     "data": {
      "application/vnd.jupyter.widget-view+json": {
       "model_id": "b5dfced931ec437191dc481747c1c9de",
       "version_major": 2,
       "version_minor": 0
      },
      "text/plain": [
       "Generating test split:   0%|          | 0/10000 [00:00<?, ? examples/s]"
      ]
     },
     "metadata": {},
     "output_type": "display_data"
    },
    {
     "data": {
      "application/vnd.jupyter.widget-view+json": {
       "model_id": "5731b4c2f3f14d52a4b6975ef6380d61",
       "version_major": 2,
       "version_minor": 0
      },
      "text/plain": [
       "Generating validation split:   0%|          | 0/10000 [00:00<?, ? examples/s]"
      ]
     },
     "metadata": {},
     "output_type": "display_data"
    },
    {
     "name": "stdout",
     "output_type": "stream",
     "text": [
      "label2id = {'Adjustments': 0, 'Agreements': 1, 'Amendments': 2, 'Anti-Corruption Laws': 3, 'Applicable Laws': 4, 'Approvals': 5, 'Arbitration': 6, 'Assignments': 7, 'Assigns': 8, 'Authority': 9, 'Authorizations': 10, 'Base Salary': 11, 'Benefits': 12, 'Binding Effects': 13, 'Books': 14, 'Brokers': 15, 'Capitalization': 16, 'Change In Control': 17, 'Closings': 18, 'Compliance With Laws': 19, 'Confidentiality': 20, 'Consent To Jurisdiction': 21, 'Consents': 22, 'Construction': 23, 'Cooperation': 24, 'Costs': 25, 'Counterparts': 26, 'Death': 27, 'Defined Terms': 28, 'Definitions': 29, 'Disability': 30, 'Disclosures': 31, 'Duties': 32, 'Effective Dates': 33, 'Effectiveness': 34, 'Employment': 35, 'Enforceability': 36, 'Enforcements': 37, 'Entire Agreements': 38, 'Erisa': 39, 'Existence': 40, 'Expenses': 41, 'Fees': 42, 'Financial Statements': 43, 'Forfeitures': 44, 'Further Assurances': 45, 'General': 46, 'Governing Laws': 47, 'Headings': 48, 'Indemnifications': 49, 'Indemnity': 50, 'Insurances': 51, 'Integration': 52, 'Intellectual Property': 53, 'Interests': 54, 'Interpretations': 55, 'Jurisdictions': 56, 'Liens': 57, 'Litigations': 58, 'Miscellaneous': 59, 'Modifications': 60, 'No Conflicts': 61, 'No Defaults': 62, 'No Waivers': 63, 'Non-Disparagement': 64, 'Notices': 65, 'Organizations': 66, 'Participations': 67, 'Payments': 68, 'Positions': 69, 'Powers': 70, 'Publicity': 71, 'Qualifications': 72, 'Records': 73, 'Releases': 74, 'Remedies': 75, 'Representations': 76, 'Sales': 77, 'Sanctions': 78, 'Severability': 79, 'Solvency': 80, 'Specific Performance': 81, 'Submission To Jurisdiction': 82, 'Subsidiaries': 83, 'Successors': 84, 'Survival': 85, 'Tax Withholdings': 86, 'Taxes': 87, 'Terminations': 88, 'Terms': 89, 'Titles': 90, 'Transactions With Affiliates': 91, 'Use Of Proceeds': 92, 'Vacations': 93, 'Venues': 94, 'Vesting': 95, 'Waiver Of Jury Trials': 96, 'Waivers': 97, 'Warranties': 98, 'Withholdings': 99}\n",
      "id2label = {0: 'Adjustments', 1: 'Agreements', 2: 'Amendments', 3: 'Anti-Corruption Laws', 4: 'Applicable Laws', 5: 'Approvals', 6: 'Arbitration', 7: 'Assignments', 8: 'Assigns', 9: 'Authority', 10: 'Authorizations', 11: 'Base Salary', 12: 'Benefits', 13: 'Binding Effects', 14: 'Books', 15: 'Brokers', 16: 'Capitalization', 17: 'Change In Control', 18: 'Closings', 19: 'Compliance With Laws', 20: 'Confidentiality', 21: 'Consent To Jurisdiction', 22: 'Consents', 23: 'Construction', 24: 'Cooperation', 25: 'Costs', 26: 'Counterparts', 27: 'Death', 28: 'Defined Terms', 29: 'Definitions', 30: 'Disability', 31: 'Disclosures', 32: 'Duties', 33: 'Effective Dates', 34: 'Effectiveness', 35: 'Employment', 36: 'Enforceability', 37: 'Enforcements', 38: 'Entire Agreements', 39: 'Erisa', 40: 'Existence', 41: 'Expenses', 42: 'Fees', 43: 'Financial Statements', 44: 'Forfeitures', 45: 'Further Assurances', 46: 'General', 47: 'Governing Laws', 48: 'Headings', 49: 'Indemnifications', 50: 'Indemnity', 51: 'Insurances', 52: 'Integration', 53: 'Intellectual Property', 54: 'Interests', 55: 'Interpretations', 56: 'Jurisdictions', 57: 'Liens', 58: 'Litigations', 59: 'Miscellaneous', 60: 'Modifications', 61: 'No Conflicts', 62: 'No Defaults', 63: 'No Waivers', 64: 'Non-Disparagement', 65: 'Notices', 66: 'Organizations', 67: 'Participations', 68: 'Payments', 69: 'Positions', 70: 'Powers', 71: 'Publicity', 72: 'Qualifications', 73: 'Records', 74: 'Releases', 75: 'Remedies', 76: 'Representations', 77: 'Sales', 78: 'Sanctions', 79: 'Severability', 80: 'Solvency', 81: 'Specific Performance', 82: 'Submission To Jurisdiction', 83: 'Subsidiaries', 84: 'Successors', 85: 'Survival', 86: 'Tax Withholdings', 87: 'Taxes', 88: 'Terminations', 89: 'Terms', 90: 'Titles', 91: 'Transactions With Affiliates', 92: 'Use Of Proceeds', 93: 'Vacations', 94: 'Venues', 95: 'Vesting', 96: 'Waiver Of Jury Trials', 97: 'Waivers', 98: 'Warranties', 99: 'Withholdings'}\n"
     ]
    }
   ],
   "source": [
    "from datasets import load_dataset\n",
    "\n",
    "# Load LEDGAR from LexGLUE\n",
    "dataset = load_dataset(\"coastalcph/lex_glue\", \"ledgar\")\n",
    "\n",
    "# The label feature has a class index -> label mapping\n",
    "label_names = dataset['train'].features['label'].names\n",
    "\n",
    "# Print label-to-id mapping\n",
    "label2id = {label: idx for idx, label in enumerate(label_names)}\n",
    "id2label = {idx: label for idx, label in enumerate(label_names)}\n",
    "\n",
    "print(\"label2id =\", label2id)\n",
    "print(\"id2label =\", id2label)"
   ]
  }
 ],
 "metadata": {
  "kernelspec": {
   "display_name": "Python 3",
   "language": "python",
   "name": "python3"
  },
  "language_info": {
   "codemirror_mode": {
    "name": "ipython",
    "version": 3
   },
   "file_extension": ".py",
   "mimetype": "text/x-python",
   "name": "python",
   "nbconvert_exporter": "python",
   "pygments_lexer": "ipython3",
   "version": "3.12.4"
  }
 },
 "nbformat": 4,
 "nbformat_minor": 5
}
